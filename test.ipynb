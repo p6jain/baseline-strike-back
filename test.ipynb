{
 "cells": [
  {
   "cell_type": "code",
   "execution_count": 195,
   "metadata": {},
   "outputs": [],
   "source": [
    "%matplotlib inline\n",
    "\n",
    "import kb\n",
    "import torch\n",
    "import os\n",
    "import csv\n",
    "import numpy\n",
    "import matplotlib.pyplot as plt\n",
    "import argparse\n",
    "from collections import defaultdict as dd\n",
    "import pandas as pd"
   ]
  },
  {
   "cell_type": "code",
   "execution_count": 257,
   "metadata": {},
   "outputs": [],
   "source": [
    "def get_entity_mid_name_type_rel_dict(model, dataset):\n",
    "    mid_type=dd(str)\n",
    "    mid_name=dd(str)\n",
    "    name_mid=dd(str)\n",
    "    dataset_root='./data/'+dataset+'/'\n",
    "    with open(\"./data/\"+dataset+\"/entity_mid_name_type_typeid.txt\") as csv_file:\n",
    "        csv_reader = csv.reader(csv_file, delimiter='\\t')\n",
    "        for row in csv_reader:\n",
    "            mid_type[row[0]] = row[2]\n",
    "            mid_name[row[0]] = row[1]\n",
    "   \n",
    "    print(model.keys())\n",
    "    if \"entity_map\" in model.keys(): \n",
    "        entity_map = model['entity_map']\n",
    "    else:\n",
    "        print(\"May have issues here!!\")\n",
    "        entity_map = get_maps(dataset_root)\n",
    "\n",
    "    if 'reverse_entity_map' in model:\n",
    "        reverse_entity_map = model['reverse_entity_map']\n",
    "    else:\n",
    "        reverse_entity_map = {}\n",
    "        for k,v in entity_map.items():\n",
    "            reverse_entity_map[v] = k   \n",
    "    ktrain = kb.kb(os.path.join(dataset_root, 'train.txt'), em=entity_map, rem=reverse_entity_map, add_unknowns=True)\n",
    "\n",
    "    return mid_name,name_mid,mid_type, ktrain.reverse_relation_map, entity_map, reverse_entity_map\n",
    "    \n",
    "def get_relation_type(train, mid_type)\n",
    "    \n",
    "def get_maps(dataset_root):\n",
    "    ktrain = kb.kb(os.path.join(dataset_root, 'train.txt'))\n",
    "    introduce_oov=1\n",
    "    print(\"ALERT: introduce_oov\", introduce_oov)\n",
    "\n",
    "    if introduce_oov:\n",
    "        if not \"<OOV>\" in ktrain.entity_map.keys():\n",
    "            ktrain.entity_map[\"<OOV>\"] = len(ktrain.entity_map)\n",
    "            ktrain.nonoov_entity_count = ktrain.entity_map[\"<OOV>\"]+1\n",
    "    ktest = kb.kb(os.path.join(dataset_root, 'test.txt'), ktrain.entity_map, ktrain.relation_map,\n",
    "                  add_unknowns=not introduce_oov, nonoov_entity_count=ktrain.nonoov_entity_count)\n",
    "    kvalid = kb.kb(os.path.join(dataset_root, 'valid.txt'), ktrain.entity_map, ktrain.relation_map,\n",
    "                   add_unknowns=not introduce_oov, nonoov_entity_count=ktrain.nonoov_entity_count)\n",
    "\n",
    "    return ktrain.entity_map\n",
    "\n",
    "def save_translated_file(file_name=\"\", model=None,data=None, dataset=None):\n",
    "    mid_name,name_mid,mid_type,reverse_relation_map,entity_map, reverse_entity_map = get_entity_mid_name_type_rel_dict(model, dataset)\n",
    "    mid_name[\"<OOV>\"] = \"<OOV>\"\n",
    "    mid_type[\"<OOV>\"] = \"<OOV>\"\n",
    "    reverse_entity_map[len(reverse_entity_map)] = \"<OOV>\"   \n",
    "    print(len(mid_name))\n",
    "    print(len(mid_type))\n",
    "    print(len(reverse_relation_map))\n",
    "    print(len(entity_map))\n",
    "    print(len(reverse_entity_map))\n",
    "    all_data=dd(list)\n",
    "    with open(file_name,\"w\") as csv_file:\n",
    "        csv_writer = csv.writer(csv_file, delimiter=',')    \n",
    "        csv_writer.writerow([\"r\",\"e1\",\"e2\",\"e1_type\",\"e2_type\",\"e1P\",\"e2P\",\"e1P_type\",\"e2P_type\",\"e1Rank\",\"e2Rank\"])\n",
    "        for r,e1,e2,e1p,e2p,e1r,e2r in data:\n",
    "            csv_writer.writerow([reverse_relation_map[int(r)],mid_name[reverse_entity_map[int(e1)]],mid_name[reverse_entity_map[int(e2)]],mid_type[reverse_entity_map[int(e1)]],mid_type[reverse_entity_map[int(e2)]],mid_name[reverse_entity_map[int(e1p)]],mid_name[reverse_entity_map[int(e2p)]],mid_type[reverse_entity_map[int(e1p)]],mid_type[reverse_entity_map[int(e2p)]],e1r,e2r])\n",
    "            all_data[(e1,r,e2)]=[reverse_relation_map[int(r)], mid_name[reverse_entity_map[int(e1)]],mid_name[reverse_entity_map[int(e2)]],mid_type[reverse_entity_map[int(e1)]],mid_type[reverse_entity_map[int(e2)]],mid_name[reverse_entity_map[int(e1p)]],mid_name[reverse_entity_map[int(e2p)]],mid_type[reverse_entity_map[int(e1p)]],mid_type[reverse_entity_map[int(e2p)]],e1r,e2r]\n",
    "    return all_data\n",
    "\n",
    "def save_both_file(model_data, file_name=\"\"):\n",
    "    with open(file_name,\"w\") as csv_file:\n",
    "        csv_writer = csv.writer(csv_file, delimiter=',')\n",
    "        csv_writer.writerow([\"r\",\"e1\",\"e2\",\"e1_type\",\"e2_type\",\"e1P_typedM\",\"e2P_typedM\",\"e1P_typeM\",\"e2P_typeM\",\"e1Rank_typedM\",\"e2Rank_typedM\",\"e1P_imageM\",\"e2P_imageM\",\"e1P_type_imageM\",\"e2P_type_imageM\",\"e1Rank_imageM\",\"e2Rank_imageM\"])\n",
    "        for e1,r,e2 in model_data[\"typed_model\"].keys():\n",
    "            csv_writer.writerow(model_data[\"typed_model\"][(e1,r,e2)]+model_data[\"image_model\"][(e1,r,e2)][5:])\n",
    "\n",
    "\n",
    "def type_analysis(model_data,verbose=1):\n",
    "    type_performance = {\"image_model\":dd(int),\"typed_model\":dd(int),\"all_type\":dd(int)}\n",
    "    for tup in model_data[\"typed_model\"].keys():\n",
    "        r,e1,e2,e1_type,e2_type,e1P_typedM,e2P_typedM,e1P_typeM,e2P_typeM,e1Rank_typedM,e2Rank_typedM,e1P_imageM,e2P_imageM,e1P_type_imageM,e2P_type_imageM,e1Rank_imageM,e2Rank_imageM = model_data[\"typed_model\"][tup]+model_data[\"image_model\"][tup][5:]\n",
    "        type_performance[\"all_type\"][e1_type]+=1\n",
    "        type_performance[\"all_type\"][e2_type]+=1\n",
    "        type_performance[\"image_model\"][e1_type]+=int(e1_type==e1P_type_imageM)\n",
    "        type_performance[\"image_model\"][e2_type]+=int(e2_type==e2P_type_imageM)\n",
    "        type_performance[\"typed_model\"][e1_type]+=int(e1_type==e1P_typeM)  \n",
    "        type_performance[\"typed_model\"][e2_type]+=int(e2_type==e2P_typeM)\n",
    "        \n",
    "    for types in type_performance[\"all_type\"].keys():\n",
    "        type_performance[\"image_model\"][types] = round(100.0*type_performance[\"image_model\"][types]/type_performance[\"all_type\"][types],2)\n",
    "        type_performance[\"typed_model\"][types] = round(100.0*type_performance[\"typed_model\"][types]/type_performance[\"all_type\"][types],2)\n",
    "    \n",
    "    if verbose>0:\n",
    "        f1 = open(\"./analysis_yago/improved_types.csv\",'w')\n",
    "        f2 = open(\"./analysis_yago/deter_types.csv\",'w')\n",
    "        csv_writer1 = csv.writer(f1,delimiter=',')\n",
    "        csv_writer2 = csv.writer(f2,delimiter=',')\n",
    "        improved = [];deter = []\n",
    "        for types in type_performance[\"all_type\"].keys():\n",
    "            diff = round(type_performance[\"image_model\"][types] - type_performance[\"typed_model\"][types],2)\n",
    "            if diff> 10:\n",
    "                improved.append((types,diff,type_performance[\"image_model\"][types], type_performance[\"typed_model\"][types] ,type_performance[\"all_type\"][types]))\n",
    "                csv_writer1.writerow([types,diff,type_performance[\"image_model\"][types], type_performance[\"typed_model\"][types] ,type_performance[\"all_type\"][types]])\n",
    "            elif diff < -10:\n",
    "                deter.append((types,diff,type_performance[\"image_model\"][types], type_performance[\"typed_model\"][types] ,type_performance[\"all_type\"][types]))\n",
    "                csv_writer2.writerow([types,diff,type_performance[\"image_model\"][types], type_performance[\"typed_model\"][types] ,type_performance[\"all_type\"][types]])\n",
    "        print(improved)\n",
    "        print(deter)\n",
    "        f1.close()\n",
    "        f2.close()\n",
    "    return type_performance\n",
    "\n",
    "def rel_analysis(model_data,verbose=1):\n",
    "    r_performance = {\"image_model\":dd(int),\"typed_model\":dd(int),\"all\":dd(int)}\n",
    "    for tup in model_data[\"typed_model\"].keys():\n",
    "        r,e1,e2,e1_type,e2_type,e1P_typedM,e2P_typedM,e1P_typeM,e2P_typeM,e1Rank_typedM,e2Rank_typedM,e1P_imageM,e2P_imageM,e1P_type_imageM,e2P_type_imageM,e1Rank_imageM,e2Rank_imageM = model_data[\"typed_model\"][tup]+model_data[\"image_model\"][tup][5:]\n",
    "        r_performance[\"all\"][r]+=1\n",
    "        s_t=int(e1_type==e1P_type_imageM)\n",
    "        o_t=int(e2_type==e2P_type_imageM)\n",
    "        r_performance[\"image_model\"][r] += int(s_t and o_t)\n",
    "        s_t=int(e1_type==e1P_typeM)\n",
    "        o_t=int(e2_type==e2P_typeM)\n",
    "        r_performance[\"typed_model\"][r] += int(s_t and o_t)\n",
    "\n",
    "    for r in r_performance[\"all\"].keys():\n",
    "        r_performance[\"image_model\"][r] = round(100.0*r_performance[\"image_model\"][r]/r_performance[\"all\"][r],2)\n",
    "        r_performance[\"typed_model\"][r] = round(100.0*r_performance[\"typed_model\"][r]/r_performance[\"all\"][r],2)\n",
    "\n",
    "    if verbose>0:\n",
    "        f1 = open(\"./analysis_yago/improved_rels.csv\",'w')\n",
    "        f2 = open(\"./analysis_yago/deter_rels.csv\",'w')\n",
    "        csv_writer1 = csv.writer(f1,delimiter=',')\n",
    "        csv_writer2 = csv.writer(f2,delimiter=',')\n",
    "        improved = [];deter = []\n",
    "        for r in r_performance[\"all\"].keys():\n",
    "            diff = round(r_performance[\"image_model\"][r] - r_performance[\"typed_model\"][r],2)\n",
    "            if diff> 10:\n",
    "                improved.append((r,diff,r_performance[\"image_model\"][r], r_performance[\"typed_model\"][r] ,r_performance[\"all\"][r]))\n",
    "                csv_writer1.writerow([r,diff,r_performance[\"image_model\"][r], r_performance[\"typed_model\"][r] ,r_performance[\"all\"][r]])\n",
    "            elif diff < -10:\n",
    "                deter.append((r,diff,r_performance[\"image_model\"][r], r_performance[\"typed_model\"][r] ,r_performance[\"all\"][r]))\n",
    "                csv_writer2.writerow([r,diff,r_performance[\"image_model\"][r], r_performance[\"typed_model\"][r] ,r_performance[\"all\"][r]])\n",
    "        print(\"improved:\")\n",
    "        for ele in improved:\n",
    "            print(ele)\n",
    "        print(\"deter:\")\n",
    "        for ele in deter:\n",
    "            print(ele)\n",
    "        f1.close()\n",
    "        f2.close()\n",
    "    return r_performance\n",
    "\n",
    "def ent_analysis(model_data,verbose=1):\n",
    "    e_performance = {\"image_model\":dd(int),\"typed_model\":dd(int),\"all\":dd(int)}\n",
    "    for tup in model_data[\"typed_model\"].keys():\n",
    "        r,e1,e2,e1_type,e2_type,e1P_typedM,e2P_typedM,e1P_typeM,e2P_typeM,e1Rank_typedM,e2Rank_typedM,e1P_imageM,e2P_imageM,e1P_type_imageM,e2P_type_imageM,e1Rank_imageM,e2Rank_imageM = model_data[\"typed_model\"][tup]+model_data[\"image_model\"][tup][5:]\n",
    "        e1 = e1.replace(\",\",\":\")\n",
    "        e2 = e2.replace(\",\",\":\")\n",
    "        e_performance[\"all\"][(e1,e1_type)]+=1\n",
    "        e_performance[\"all\"][(e2,e2_type)]+=1\n",
    "        s_t=int(e1_type==e1P_type_imageM)\n",
    "        o_t=int(e2_type==e2P_type_imageM)\n",
    "        e_performance[\"image_model\"][(e1,e1_type)] += s_t\n",
    "        e_performance[\"image_model\"][(e2,e2_type)] += o_t\n",
    "        s_t=int(e1_type==e1P_typeM)\n",
    "        o_t=int(e2_type==e2P_typeM)\n",
    "        e_performance[\"typed_model\"][(e1,e1_type)] += s_t\n",
    "        e_performance[\"typed_model\"][(e2,e2_type)] += o_t \n",
    "\n",
    "    for e in e_performance[\"all\"].keys():\n",
    "        e_performance[\"image_model\"][e] = round(100.0*e_performance[\"image_model\"][e]/e_performance[\"all\"][e],2)\n",
    "        e_performance[\"typed_model\"][e] = round(100.0*e_performance[\"typed_model\"][e]/e_performance[\"all\"][e],2)\n",
    "\n",
    "    if verbose>0:\n",
    "        f1 = open(\"./analysis_yago/improved_ents.csv\",'w')\n",
    "        f2 = open(\"./analysis_yago/deter_ents.csv\",'w')\n",
    "        csv_writer1 = csv.writer(f1,delimiter=',')\n",
    "        csv_writer2 = csv.writer(f2,delimiter=',')\n",
    "        improved = [];deter = []\n",
    "        for e in e_performance[\"all\"].keys():\n",
    "            diff = round(e_performance[\"image_model\"][e] - e_performance[\"typed_model\"][e],2)\n",
    "            if diff> 10:\n",
    "                improved.append((e,diff,e_performance[\"image_model\"][e], e_performance[\"typed_model\"][e] ,e_performance[\"all\"][e]))\n",
    "                csv_writer1.writerow([e,diff,e_performance[\"image_model\"][e], e_performance[\"typed_model\"][e] ,e_performance[\"all\"][e]])\n",
    "            elif diff < -10:\n",
    "                deter.append((e,diff,e_performance[\"image_model\"][e], e_performance[\"typed_model\"][e] ,e_performance[\"all\"][e]))\n",
    "                csv_writer2.writerow([e,diff,e_performance[\"image_model\"][e], e_performance[\"typed_model\"][e] ,e_performance[\"all\"][e]])\n",
    "        print(\"improved:\")\n",
    "        for ele in improved:\n",
    "            print(ele)\n",
    "        print(\"**********************************************************************\")\n",
    "        print(\"deter:\")\n",
    "        for ele in deter:\n",
    "            print(ele)\n",
    "        f1.close()\n",
    "        f2.close()\n",
    "    return e_performance\n",
    "\n",
    "def get_custom_dict_e():\n",
    "    return {\"freq\":0, \"out_degree\":set(), \"in_degree\":set(), \"e1_freq\":0, \"e2_freq\":0}\n",
    "\n",
    "\n",
    "def get_custom_dict_r():\n",
    "    return {\"freq\":0, \"out_degree\":set(), \"in_degree\":set()}\n",
    "\n",
    "def get_data_stats(model, dataset):\n",
    "    _,name_mid,mid_type, _, _, _ = get_entity_mid_name_type_rel_dict(model, dataset)\n",
    "\n",
    "    e_stats = dd(get_custom_dict_e)#{freq:0, out:set(), in:set(), e1_freq:0, e2_freq:0}\n",
    "    type_stats = dd(get_custom_dict_e)\n",
    "    r_stats = dd(get_custom_dict_r)#freq, out, in\n",
    "    dataset_root='./data/'+dataset+'/'\n",
    "    with open(\"./data/\"+dataset+\"/train.txt\") as csv_file:\n",
    "        csv_reader = csv.reader(csv_file, delimiter='\\t')\n",
    "        for row in csv_reader:\n",
    "            e1,r,e2 = row\n",
    "            e_stats[e1][\"freq\"] += 1; e_stats[e1][\"e1_freq\"] += 1;\n",
    "            e_stats[e1][\"out_degree\"].add(r);  \n",
    "            e_stats[e2][\"freq\"] += 1; e_stats[e2][\"e2_freq\"] += 1;\n",
    "            e_stats[e2][\"in_degree\"].add(r);    \n",
    "            r_stats[r][\"freq\"] += 1\n",
    "            r_stats[r][\"in_degree\"].add(e1); r_stats[r][\"out_degree\"].add(e2);             \n",
    "\n",
    "            e1_type = mid_type[name_mid[e1]]; e2_type = mid_type[name_mid[e2]];\n",
    "            type_stats[e1_type][\"freq\"] += 1; type_stats[e1_type][\"e1_freq\"] += 1;\n",
    "            type_stats[e1_type][\"out_degree\"].add(r);\n",
    "            type_stats[e2_type][\"freq\"] += 1; type_stats[e2_type][\"e2_freq\"] += 1;\n",
    "            type_stats[e2_type][\"in_degree\"].add(r);\n",
    "\n",
    "    for stats in [e_stats, r_stats, type_stats]: #CHECK!!\n",
    "        for key in stats.keys():\n",
    "            stats[key][\"in_degree\"] = len(stats[key][\"in_degree\"])\n",
    "            stats[key][\"out_degree\"] = len(stats[key][\"out_degree\"])\n",
    "\n",
    "    return e_stats, r_stats, type_stats\n",
    "\n",
    "def get_list_dict():\n",
    "    return dd(list)\n",
    "\n",
    "def model_analysis(model_data, model, dataset, verbose=1):\n",
    "    #e_stats, r_stats, type_stats =  get_data_stats(model, dataset)\n",
    "\n",
    "    e_performance = dd(list); e1_performance = dd(list); e2_performance = dd(list)\n",
    "    e_type_performance = dd(list); e1_type_performance = dd(list); e2_type_performance = dd(list)\n",
    "    r_e1_performance = dd(list); r_e2_performance = dd(list); r_e_performance = dd(list);\n",
    "    r_e1_sep_performance = dd(get_list_dict); r_e2_sep_performance = dd(get_list_dict); r_e_sep_performance = dd(get_list_dict);\n",
    "\n",
    "    for tup in model_data.keys():\n",
    "        r,e1,e2,e1_type,e2_type,e1P,e2P,e1P_type,e2P_type,e1Rank,e2Rank = model_data[tup]\n",
    "        e1Rank = 1.0/(float(e1Rank)+0.0000001); e2Rank = 1.0/(float(e2Rank)+0.0000001)\n",
    "        e_performance[e1].append(e1Rank); e1_performance[e1].append(e1Rank);\n",
    "        e_performance[e2].append(e2Rank); e2_performance[e2].append(e2Rank);\n",
    "    \n",
    "        e_type_performance[e1_type].append(e1Rank); e1_type_performance[e1_type].append(e1Rank);\n",
    "        e_type_performance[e2_type].append(e2Rank); e2_type_performance[e2_type].append(e2Rank);\n",
    "\n",
    "        r_e1_performance[r].append(e1Rank); r_e_performance[r].append(e1Rank); \n",
    "        r_e2_performance[r].append(e2Rank); r_e_performance[r].append(e2Rank)\n",
    "        \n",
    "        r_e1_sep_performance[r][e1].append(e1Rank); r_e_sep_performance[r][e1].append(e1Rank); \n",
    "        r_e2_sep_performance[r][e2].append(e2Rank); r_e_sep_performance[r][e2].append(e2Rank)\n",
    "\n",
    "    return e_performance, e1_performance, e2_performance, e_type_performance, e1_type_performance, e2_type_performance, r_e1_performance, r_e2_performance, r_e_performance, r_e1_sep_performance, r_e2_sep_performance, r_e_sep_performance \n"
   ]
  },
  {
   "cell_type": "code",
   "execution_count": 10,
   "metadata": {},
   "outputs": [],
   "source": [
    "dataset=\"yago\"\n",
    "model=\"CX\""
   ]
  },
  {
   "cell_type": "code",
   "execution_count": 258,
   "metadata": {},
   "outputs": [
    {
     "name": "stdout",
     "output_type": "stream",
     "text": [
      "dict_keys(['mini_batches', 'epoch', 'model_name', 'model_weights', 'optimizer_state', 'optimizer_name', 'valid_score_e2', 'test_score_e2', 'valid_score_e1', 'test_score_e1', 'valid_score_m', 'test_score_m'])\n",
      "May have issues here!!\n",
      "ALERT: introduce_oov 1\n",
      "123144\n",
      "123144\n",
      "37\n",
      "123144\n",
      "123145\n"
     ]
    }
   ],
   "source": [
    "\n",
    "path = './analysis/'\n",
    "file_name=\"_analysis_r_e1e2_e1Predictede2Predicted_e1Ranke2Rank.csv\"\n",
    "model_file=\"_best_valid_model.pt\"\n",
    "models = []\n",
    "#models=[\"image_model\",\"typed_model\"]\n",
    "#models = [\"CX_yago\"]\n",
    "models.append(model+\"_\"+dataset)\n",
    "\n",
    "if not models:\n",
    "    print(\"ERROR: No model to analyze\")\n",
    "\n",
    "all_model_data = {}\n",
    "for model_name in models:\n",
    "    saved_model = torch.load(path+model_name+model_file)\n",
    "    with open(path+model_name+file_name) as csv_file:\n",
    "        csv_reader = csv.reader(csv_file, delimiter='\\t')\n",
    "        tmp = save_translated_file(file_name=path+\"readable_\"+model_name+file_name,model=saved_model,data=csv_reader, dataset=dataset)\n",
    "        all_model_data[model_name] = tmp\n",
    "#save_both_file(model_data, file_name=path+\"readable_both_\"+model_name+file_name)\n",
    "\n",
    "e_performance, e1_performance, e2_performance, e_type_performance, e1_type_performance, e2_type_performance, r_e1_performance, r_e2_performance, r_e_performance, r_e1_sep_performance, r_e2_sep_performance, r_e_sep_performance = model_analysis(all_model_data[model+\"_\"+dataset], saved_model, dataset, verbose=1) \n"
   ]
  },
  {
   "cell_type": "code",
   "execution_count": 236,
   "metadata": {},
   "outputs": [
    {
     "name": "stdout",
     "output_type": "stream",
     "text": [
      "dict_keys(['mini_batches', 'epoch', 'model_name', 'model_weights', 'optimizer_state', 'optimizer_name', 'valid_score_e2', 'test_score_e2', 'valid_score_e1', 'test_score_e1', 'valid_score_m', 'test_score_m'])\n",
      "May have issues here!!\n",
      "ALERT: introduce_oov 1\n"
     ]
    }
   ],
   "source": [
    "e_stats, r_stats, type_stats =  get_data_stats(saved_model, dataset)"
   ]
  },
  {
   "cell_type": "code",
   "execution_count": 237,
   "metadata": {},
   "outputs": [
    {
     "name": "stderr",
     "output_type": "stream",
     "text": [
      "'c' argument looks like a single numeric RGB or RGBA sequence, which should be avoided as value-mapping will have precedence in case its length matches with 'x' & 'y'.  Please use a 2-D array with a single row if you really want to specify the same RGB or RGBA value for all points.\n"
     ]
    },
    {
     "name": "stdout",
     "output_type": "stream",
     "text": [
      "                          freq        inv_rank       num_instances       index\n",
      "                          mean count      mean count          mean count      \n",
      "bin                                                                           \n",
      "(-1, 100]            19.787982  6490  0.453526  6490           0.0  6490     0\n",
      "(100, 200]          143.606474   587  0.760116   587           0.0   587     1\n",
      "(200, 300]          246.899390   328  0.838045   328           0.0   328     2\n",
      "(300, 400]          346.220588   204  0.858692   204           0.0   204     3\n",
      "(400, 500]          449.831461    89  0.904054    89           0.0    89     4\n",
      "(500, 600]          543.423077    52  0.890631    52           0.0    52     5\n",
      "(600, 700]          649.981481    54  0.858919    54           0.0    54     6\n",
      "(700, 800]          744.593750    32  0.885286    32           0.0    32     7\n",
      "(800, 900]          857.838710    31  0.899835    31           0.0    31     8\n",
      "(900, 1000]         947.818182    22  0.923725    22           0.0    22     9\n",
      "(1000, 5000]       1183.114286    35  0.868137    35           0.0    35    10\n",
      "(5000, 10000]      5119.000000     1  0.519260     1           0.0     1    11\n",
      "(10000, 50000]    12416.000000     1  0.923611     1           0.0     1    12\n",
      "(50000, 100000]   61044.000000     1  0.991107     1           0.0     1    13\n",
      "(100000, 200000]           NaN     0       NaN     0           NaN     0    14\n",
      "(200000, 300000]           NaN     0       NaN     0           NaN     0    15\n",
      "(300000, 400000]           NaN     0       NaN     0           NaN     0    16\n"
     ]
    },
    {
     "data": {
      "text/plain": [
       "<matplotlib.collections.PathCollection at 0x7f4a53d29898>"
      ]
     },
     "execution_count": 237,
     "metadata": {},
     "output_type": "execute_result"
    },
    {
     "data": {
      "image/png": "[encoded data removed]",
      "text/plain": [
       "<Figure size 432x288 with 1 Axes>"
      ]
     },
     "metadata": {
      "needs_background": "light"
     },
     "output_type": "display_data"
    }
   ],
   "source": [
    "#entity analysis\n",
    "x = [];y = [];y_freq=[]\n",
    "for ele in e_performance:\n",
    "    y.append(numpy.mean(e_performance[ele]))\n",
    "    x.append(int(e_stats[ele][\"freq\"]))\n",
    "    y_freq.append(len(r_e2_performance[ele]))\n",
    "    \n",
    "df = pd.DataFrame({'freq':x, 'inv_rank':y, 'num_instances':y_freq})\n",
    "bins=[-1,100,200,300,400,500,600,700,800,900,1000,5000,10000,50000,100000,200000,300000,400000]\n",
    "interval=pd.cut(df[\"freq\"], bins=bins)\n",
    "df['bin'] = interval\n",
    "df_plt = df.groupby('bin').agg(['mean', 'count'])#agg('mean')\n",
    "df_plt['index'] = range(0, len(df_plt))\n",
    "print(df_plt)\n",
    "#plt.xlim(0,30)\n",
    "plt.scatter(df_plt[\"index\"],df_plt[\"inv_rank\"][\"mean\"], s=area, c=colors, alpha=0.5)"
   ]
  },
  {
   "cell_type": "code",
   "execution_count": 265,
   "metadata": {},
   "outputs": [
    {
     "name": "stderr",
     "output_type": "stream",
     "text": [
      "'c' argument looks like a single numeric RGB or RGBA sequence, which should be avoided as value-mapping will have precedence in case its length matches with 'x' & 'y'.  Please use a 2-D array with a single row if you really want to specify the same RGB or RGBA value for all points.\n"
     ]
    },
    {
     "name": "stdout",
     "output_type": "stream",
     "text": [
      "                      freq        inv_rank       num_instances       index\n",
      "                      mean count      mean count          mean count      \n",
      "bin                                                                       \n",
      "(-1, 5]           3.117517   451  0.143004   451           0.0   451     0\n",
      "(5, 10]           8.656731  1040  0.234195  1040           0.0  1040     1\n",
      "(10, 15]         12.943975  1303  0.435250  1303           0.0  1303     2\n",
      "(15, 20]         17.879365   945  0.581425   945           0.0   945     3\n",
      "(20, 25]         22.799263   543  0.651219   543           0.0   543     4\n",
      "(25, 30]         27.593220   236  0.745020   236           0.0   236     5\n",
      "(30, 40]         34.429530   149  0.702582   149           0.0   149     6\n",
      "(40, 50]         44.392857    28  0.578572    28           0.0    28     7\n",
      "(50, 60]         56.375000    16  0.545482    16           0.0    16     8\n",
      "(60, 70]         65.666667    12  0.198760    12           0.0    12     9\n",
      "(70, 80]         75.000000    11  0.631202    11           0.0    11    10\n",
      "(80, 90]         83.500000    10  0.444399    10           0.0    10    11\n",
      "(90, 100]        94.900000    10  0.473378    10           0.0    10    12\n",
      "(100, 150]      124.086957    23  0.362592    23           0.0    23    13\n",
      "(150, 200]      170.285714    21  0.590400    21           0.0    21    14\n",
      "(200, 300]      245.833333    12  0.325885    12           0.0    12    15\n",
      "(300, 400]      341.571429     7  0.666962     7           0.0     7    16\n",
      "(400, 500]      440.666667     3  1.000000     3           0.0     3    17\n",
      "(500, 600]             NaN     0       NaN     0           NaN     0    18\n",
      "(600, 700]      692.000000     1  0.250000     1           0.0     1    19\n",
      "(700, 800]             NaN     0       NaN     0           NaN     0    20\n",
      "(800, 900]      858.000000     1  0.500000     1           0.0     1    21\n",
      "(900, 1000]            NaN     0       NaN     0           NaN     0    22\n",
      "(1000, 5000]   1467.000000     3  0.388889     3           0.0     3    23\n",
      "(5000, 70000]          NaN     0       NaN     0           NaN     0    24\n"
     ]
    },
    {
     "data": {
      "text/plain": [
       "1884"
      ]
     },
     "execution_count": 265,
     "metadata": {},
     "output_type": "execute_result"
    },
    {
     "data": {
      "image/png": "[encoded data removed]",
      "text/plain": [
       "<Figure size 432x288 with 1 Axes>"
      ]
     },
     "metadata": {
      "needs_background": "light"
     },
     "output_type": "display_data"
    }
   ],
   "source": [
    "x = [];y = [];y_freq=[]\n",
    "for ele in e1_performance:\n",
    "    y.append(numpy.mean(e1_performance[ele]))\n",
    "    x.append(int(e_stats[ele][\"freq\"]))\n",
    "    y_freq.append(len(r_e2_performance[ele]))\n",
    "    \n",
    "df = pd.DataFrame({'freq':x, 'inv_rank':y, 'num_instances':y_freq})\n",
    "bins=[-1,5,10,15,20,25,30,40,50,60,70,80,90,100,150,200,300,400,500,600,700,800,900,1000,5000,70000]\n",
    "interval=pd.cut(df[\"freq\"], bins=bins)\n",
    "df['bin'] = interval\n",
    "df_plt = df.groupby('bin').agg(['mean', 'count'])#agg('mean')\n",
    "df_plt['index'] = range(0, len(df_plt))\n",
    "print(df_plt)\n",
    "#plt.xlim(0,30)\n",
    "plt.scatter(df_plt[\"index\"],df_plt[\"inv_rank\"][\"mean\"], s=area, c=colors, alpha=0.5)\n",
    "max(x)"
   ]
  },
  {
   "cell_type": "code",
   "execution_count": 239,
   "metadata": {},
   "outputs": [
    {
     "name": "stderr",
     "output_type": "stream",
     "text": [
      "'c' argument looks like a single numeric RGB or RGBA sequence, which should be avoided as value-mapping will have precedence in case its length matches with 'x' & 'y'.  Please use a 2-D array with a single row if you really want to specify the same RGB or RGBA value for all points.\n"
     ]
    },
    {
     "name": "stdout",
     "output_type": "stream",
     "text": [
      "                       freq        inv_rank       num_instances       index\n",
      "                       mean count      mean count          mean count      \n",
      "bin                                                                        \n",
      "(-1, 5]            3.520958   167  0.203832   167             0   167     0\n",
      "(5, 10]            7.985836   353  0.264284   353             0   353     1\n",
      "(10, 15]          12.641350   237  0.377579   237             0   237     2\n",
      "(15, 20]          17.943548   124  0.508774   124             0   124     3\n",
      "(20, 25]          23.016949   118  0.571159   118             0   118     4\n",
      "(25, 30]          28.148148    81  0.587677    81             0    81     5\n",
      "(30, 40]          35.213793   145  0.620998   145             0   145     6\n",
      "(40, 50]          45.349057   106  0.581279   106             0   106     7\n",
      "(50, 60]          55.406977    86  0.666723    86             0    86     8\n",
      "(60, 70]          65.765957    94  0.641855    94             0    94     9\n",
      "(70, 80]          74.952381    84  0.727032    84             0    84    10\n",
      "(80, 90]          85.360465    86  0.703715    86             0    86    11\n",
      "(90, 100]         94.873418    79  0.789872    79             0    79    12\n",
      "(100, 150]       123.313253   332  0.757982   332             0   332    13\n",
      "(150, 200]       173.027027   222  0.810681   222             0   222    14\n",
      "(200, 300]       246.868339   319  0.854025   319             0   319    15\n",
      "(300, 400]       346.606965   201  0.861553   201             0   201    16\n",
      "(400, 500]       450.425287    87  0.900507    87             0    87    17\n",
      "(500, 600]       543.423077    52  0.890631    52             0    52    18\n",
      "(600, 700]       649.981481    54  0.865863    54             0    54    19\n",
      "(700, 800]       744.593750    32  0.885286    32             0    32    20\n",
      "(800, 900]       857.838710    31  0.898117    31             0    31    21\n",
      "(900, 1000]      947.818182    22  0.923725    22             0    22    22\n",
      "(1000, 5000]    1183.114286    35  0.874285    35             0    35    23\n",
      "(5000, 70000]  26193.000000     3  0.811326     3             0     3    24\n"
     ]
    },
    {
     "data": {
      "text/plain": [
       "<matplotlib.collections.PathCollection at 0x7f4a588b2400>"
      ]
     },
     "execution_count": 239,
     "metadata": {},
     "output_type": "execute_result"
    },
    {
     "data": {
      "image/png": "[encoded data removed]",
      "text/plain": [
       "<Figure size 432x288 with 1 Axes>"
      ]
     },
     "metadata": {
      "needs_background": "light"
     },
     "output_type": "display_data"
    }
   ],
   "source": [
    "x = [];y = [];y_freq=[]\n",
    "for ele in e2_performance:\n",
    "    y.append(numpy.mean(e2_performance[ele]))\n",
    "    x.append(int(e_stats[ele][\"freq\"]))\n",
    "    y_freq.append(len(r_e2_performance[ele]))\n",
    "    \n",
    "df = pd.DataFrame({'freq':x, 'inv_rank':y, 'num_instances':y_freq})\n",
    "bins=[-1,5,10,15,20,25,30,40,50,60,70,80,90,100,150,200,300,400,500,600,700,800,900,1000,5000,70000]\n",
    "interval=pd.cut(df[\"freq\"], bins=bins)\n",
    "df['bin'] = interval\n",
    "df_plt = df.groupby('bin').agg(['mean', 'count'])#agg('mean')\n",
    "df_plt['index'] = range(0, len(df_plt))\n",
    "print(df_plt)\n",
    "#plt.xlim(0,30)\n",
    "plt.scatter(df_plt[\"index\"],df_plt[\"inv_rank\"][\"mean\"], s=area, c=colors, alpha=0.5)"
   ]
  },
  {
   "cell_type": "code",
   "execution_count": null,
   "metadata": {},
   "outputs": [],
   "source": [
    "#relation analysis from here"
   ]
  },
  {
   "cell_type": "code",
   "execution_count": 241,
   "metadata": {},
   "outputs": [
    {
     "name": "stderr",
     "output_type": "stream",
     "text": [
      "'c' argument looks like a single numeric RGB or RGBA sequence, which should be avoided as value-mapping will have precedence in case its length matches with 'x' & 'y'.  Please use a 2-D array with a single row if you really want to specify the same RGB or RGBA value for all points.\n"
     ]
    },
    {
     "name": "stdout",
     "output_type": "stream",
     "text": [
      "                           freq        inv_rank       num_instances        \\\n",
      "                           mean count      mean count          mean count   \n",
      "bin                                                                         \n",
      "(-1, 100]                   NaN     0       NaN     0           NaN     0   \n",
      "(100, 200]           109.000000     1  1.000000     1      1.000000     1   \n",
      "(200, 300]           239.000000     1  0.112956     1      2.000000     1   \n",
      "(300, 400]           393.000000     1  0.261111     1      1.000000     1   \n",
      "(400, 500]                  NaN     0       NaN     0           NaN     0   \n",
      "(500, 600]           555.000000     1  1.000000     1      1.000000     1   \n",
      "(600, 700]                  NaN     0       NaN     0           NaN     0   \n",
      "(700, 800]           726.000000     1  0.264813     1      2.000000     1   \n",
      "(800, 900]                  NaN     0       NaN     0           NaN     0   \n",
      "(900, 1000]          935.500000     2  0.081905     2      3.500000     2   \n",
      "(1000, 5000]        2836.875000     8  0.474443     8     13.875000     8   \n",
      "(5000, 10000]       6453.444444     9  0.327698     9     28.222222     9   \n",
      "(10000, 50000]     28793.200000     5  0.237437     5    130.200000     5   \n",
      "(50000, 100000]    77417.500000     2  0.424572     2    372.500000     2   \n",
      "(100000, 200000]            NaN     0       NaN     0           NaN     0   \n",
      "(200000, 300000]            NaN     0       NaN     0           NaN     0   \n",
      "(300000, 400000]  347403.500000     2  0.710957     2   1610.500000     2   \n",
      "\n",
      "                 index  \n",
      "                        \n",
      "bin                     \n",
      "(-1, 100]            0  \n",
      "(100, 200]           1  \n",
      "(200, 300]           2  \n",
      "(300, 400]           3  \n",
      "(400, 500]           4  \n",
      "(500, 600]           5  \n",
      "(600, 700]           6  \n",
      "(700, 800]           7  \n",
      "(800, 900]           8  \n",
      "(900, 1000]          9  \n",
      "(1000, 5000]        10  \n",
      "(5000, 10000]       11  \n",
      "(10000, 50000]      12  \n",
      "(50000, 100000]     13  \n",
      "(100000, 200000]    14  \n",
      "(200000, 300000]    15  \n",
      "(300000, 400000]    16  \n"
     ]
    },
    {
     "data": {
      "text/plain": [
       "<matplotlib.collections.PathCollection at 0x7f4a5f49d198>"
      ]
     },
     "execution_count": 241,
     "metadata": {},
     "output_type": "execute_result"
    },
    {
     "data": {
      "image/png": "[encoded data removed]",
      "text/plain": [
       "<Figure size 432x288 with 1 Axes>"
      ]
     },
     "metadata": {
      "needs_background": "light"
     },
     "output_type": "display_data"
    }
   ],
   "source": [
    "x = [];y = [];y_freq=[]\n",
    "for ele in r_e_performance:\n",
    "    y.append(numpy.mean(r_e_performance[ele]))\n",
    "    x.append(int(r_stats[ele][\"freq\"]))\n",
    "    y_freq.append(len(r_e2_performance[ele]))\n",
    "    \n",
    "df = pd.DataFrame({'freq':x, 'inv_rank':y, 'num_instances':y_freq})\n",
    "bins=[-1,100,200,300,400,500,600,700,800,900,1000,5000,10000,50000,100000,200000,300000,400000]\n",
    "interval=pd.cut(df[\"freq\"], bins=bins)\n",
    "df['bin'] = interval\n",
    "df_plt = df.groupby('bin').agg(['mean', 'count'])#agg('mean')\n",
    "df_plt['index'] = range(0, len(df_plt))\n",
    "print(df_plt)\n",
    "#plt.xlim(0,30)\n",
    "plt.scatter(df_plt[\"index\"],df_plt[\"inv_rank\"][\"mean\"], s=area, c=colors, alpha=0.5)"
   ]
  },
  {
   "cell_type": "code",
   "execution_count": 209,
   "metadata": {},
   "outputs": [
    {
     "data": {
      "text/plain": [
       "defaultdict(<function __main__.get_custom_dict_r()>,\n",
       "            {'isLocatedIn': {'freq': 88672,\n",
       "              'out_degree': 13272,\n",
       "              'in_degree': 39689},\n",
       "             'playsFor': {'freq': 321024,\n",
       "              'out_degree': 8470,\n",
       "              'in_degree': 45797},\n",
       "             'isAffiliatedTo': {'freq': 373783,\n",
       "              'out_degree': 10882,\n",
       "              'in_degree': 48208},\n",
       "             'diedIn': {'freq': 9248, 'out_degree': 1890, 'in_degree': 9248},\n",
       "             'actedIn': {'freq': 32155, 'out_degree': 6754, 'in_degree': 5403},\n",
       "             'graduatedFrom': {'freq': 7348,\n",
       "              'out_degree': 1057,\n",
       "              'in_degree': 4716},\n",
       "             'wasBornIn': {'freq': 44978,\n",
       "              'out_degree': 6081,\n",
       "              'in_degree': 44978},\n",
       "             'hasGender': {'freq': 66163, 'out_degree': 2, 'in_degree': 66163},\n",
       "             'happenedIn': {'freq': 5056,\n",
       "              'out_degree': 1368,\n",
       "              'in_degree': 871},\n",
       "             'hasMusicalRole': {'freq': 7754,\n",
       "              'out_degree': 73,\n",
       "              'in_degree': 2554},\n",
       "             'isConnectedTo': {'freq': 32055,\n",
       "              'out_degree': 1892,\n",
       "              'in_degree': 1497},\n",
       "             'isMarriedTo': {'freq': 3757,\n",
       "              'out_degree': 3188,\n",
       "              'in_degree': 3206},\n",
       "             'participatedIn': {'freq': 5150,\n",
       "              'out_degree': 866,\n",
       "              'in_degree': 762},\n",
       "             'hasOfficialLanguage': {'freq': 298,\n",
       "              'out_degree': 12,\n",
       "              'in_degree': 238},\n",
       "             'hasWonPrize': {'freq': 24068,\n",
       "              'out_degree': 1051,\n",
       "              'in_degree': 9232},\n",
       "             'influences': {'freq': 10710,\n",
       "              'out_degree': 2628,\n",
       "              'in_degree': 2197},\n",
       "             'worksAt': {'freq': 3389, 'out_degree': 597, 'in_degree': 1420},\n",
       "             'created': {'freq': 6933, 'out_degree': 4425, 'in_degree': 2850},\n",
       "             'edited': {'freq': 3083, 'out_degree': 2799, 'in_degree': 357},\n",
       "             'directed': {'freq': 5481, 'out_degree': 4983, 'in_degree': 1558},\n",
       "             'hasAcademicAdvisor': {'freq': 914,\n",
       "              'out_degree': 511,\n",
       "              'in_degree': 800},\n",
       "             'imports': {'freq': 393, 'out_degree': 26, 'in_degree': 159},\n",
       "             'isPoliticianOf': {'freq': 2163,\n",
       "              'out_degree': 326,\n",
       "              'in_degree': 1821},\n",
       "             'wroteMusicFor': {'freq': 6047,\n",
       "              'out_degree': 5096,\n",
       "              'in_degree': 1121},\n",
       "             'isInterestedIn': {'freq': 239,\n",
       "              'out_degree': 29,\n",
       "              'in_degree': 164},\n",
       "             'isCitizenOf': {'freq': 3455,\n",
       "              'out_degree': 168,\n",
       "              'in_degree': 3005},\n",
       "             'hasChild': {'freq': 5064, 'out_degree': 2928, 'in_degree': 2833},\n",
       "             'isLeaderOf': {'freq': 957, 'out_degree': 627, 'in_degree': 534},\n",
       "             'dealsWith': {'freq': 1302, 'out_degree': 168, 'in_degree': 220},\n",
       "             'livesIn': {'freq': 2980, 'out_degree': 864, 'in_degree': 1793},\n",
       "             'hasCapital': {'freq': 2566,\n",
       "              'out_degree': 1849,\n",
       "              'in_degree': 2157},\n",
       "             'hasNeighbor': {'freq': 555, 'out_degree': 149, 'in_degree': 148},\n",
       "             'exports': {'freq': 378, 'out_degree': 30, 'in_degree': 142},\n",
       "             'owns': {'freq': 726, 'out_degree': 562, 'in_degree': 413},\n",
       "             'hasCurrency': {'freq': 109, 'out_degree': 16, 'in_degree': 109},\n",
       "             'hasWebsite': {'freq': 68, 'out_degree': 27, 'in_degree': 64},\n",
       "             'isKnownFor': {'freq': 19, 'out_degree': 17, 'in_degree': 12}})"
      ]
     },
     "execution_count": 209,
     "metadata": {},
     "output_type": "execute_result"
    }
   ],
   "source": [
    "r_stats"
   ]
  },
  {
   "cell_type": "code",
   "execution_count": 242,
   "metadata": {},
   "outputs": [
    {
     "name": "stderr",
     "output_type": "stream",
     "text": [
      "'c' argument looks like a single numeric RGB or RGBA sequence, which should be avoided as value-mapping will have precedence in case its length matches with 'x' & 'y'.  Please use a 2-D array with a single row if you really want to specify the same RGB or RGBA value for all points.\n"
     ]
    },
    {
     "name": "stdout",
     "output_type": "stream",
     "text": [
      "                           freq        inv_rank       num_instances        \\\n",
      "                           mean count      mean count          mean count   \n",
      "bin                                                                         \n",
      "(-1, 100]                   NaN     0       NaN     0           NaN     0   \n",
      "(100, 200]           109.000000     1  1.000000     1      1.000000     1   \n",
      "(200, 300]           239.000000     1  0.009246     1      2.000000     1   \n",
      "(300, 400]           393.000000     1  0.022222     1      1.000000     1   \n",
      "(400, 500]                  NaN     0       NaN     0           NaN     0   \n",
      "(500, 600]           555.000000     1  1.000000     1      1.000000     1   \n",
      "(600, 700]                  NaN     0       NaN     0           NaN     0   \n",
      "(700, 800]           726.000000     1  0.501792     1      2.000000     1   \n",
      "(800, 900]                  NaN     0       NaN     0           NaN     0   \n",
      "(900, 1000]          935.500000     2  0.104332     2      3.500000     2   \n",
      "(1000, 5000]        2836.875000     8  0.369807     8     13.875000     8   \n",
      "(5000, 10000]       6453.444444     9  0.285938     9     28.222222     9   \n",
      "(10000, 50000]     28793.200000     5  0.181394     5    130.200000     5   \n",
      "(50000, 100000]    77417.500000     2  0.090617     2    372.500000     2   \n",
      "(100000, 200000]            NaN     0       NaN     0           NaN     0   \n",
      "(200000, 300000]            NaN     0       NaN     0           NaN     0   \n",
      "(300000, 400000]  347403.500000     2  0.589825     2   1610.500000     2   \n",
      "\n",
      "                 index  \n",
      "                        \n",
      "bin                     \n",
      "(-1, 100]            0  \n",
      "(100, 200]           1  \n",
      "(200, 300]           2  \n",
      "(300, 400]           3  \n",
      "(400, 500]           4  \n",
      "(500, 600]           5  \n",
      "(600, 700]           6  \n",
      "(700, 800]           7  \n",
      "(800, 900]           8  \n",
      "(900, 1000]          9  \n",
      "(1000, 5000]        10  \n",
      "(5000, 10000]       11  \n",
      "(10000, 50000]      12  \n",
      "(50000, 100000]     13  \n",
      "(100000, 200000]    14  \n",
      "(200000, 300000]    15  \n",
      "(300000, 400000]    16  \n"
     ]
    },
    {
     "data": {
      "text/plain": [
       "<matplotlib.collections.PathCollection at 0x7f4a55640160>"
      ]
     },
     "execution_count": 242,
     "metadata": {},
     "output_type": "execute_result"
    },
    {
     "data": {
      "image/png": "[encoded data removed]",
      "text/plain": [
       "<Figure size 432x288 with 1 Axes>"
      ]
     },
     "metadata": {
      "needs_background": "light"
     },
     "output_type": "display_data"
    }
   ],
   "source": [
    "x = [];y = [];y_freq=[]\n",
    "for ele in r_e1_performance:\n",
    "    y.append(numpy.mean(r_e1_performance[ele]))\n",
    "    x.append(int(r_stats[ele][\"freq\"]))\n",
    "    y_freq.append(len(r_e2_performance[ele]))\n",
    "    \n",
    "df = pd.DataFrame({'freq':x, 'inv_rank':y, 'num_instances':y_freq})\n",
    "bins=[-1,100,200,300,400,500,600,700,800,900,1000,5000,10000,50000,100000,200000,300000,400000]\n",
    "interval=pd.cut(df[\"freq\"], bins=bins)\n",
    "df['bin'] = interval\n",
    "df_plt = df.groupby('bin').agg(['mean', 'count'])#agg('mean')\n",
    "df_plt['index'] = range(0, len(df_plt))\n",
    "print(df_plt)\n",
    "#plt.xlim(0,30)\n",
    "plt.scatter(df_plt[\"index\"],df_plt[\"inv_rank\"][\"mean\"], s=area, c=colors, alpha=0.5)"
   ]
  },
  {
   "cell_type": "code",
   "execution_count": 250,
   "metadata": {},
   "outputs": [
    {
     "name": "stderr",
     "output_type": "stream",
     "text": [
      "'c' argument looks like a single numeric RGB or RGBA sequence, which should be avoided as value-mapping will have precedence in case its length matches with 'x' & 'y'.  Please use a 2-D array with a single row if you really want to specify the same RGB or RGBA value for all points.\n"
     ]
    },
    {
     "name": "stdout",
     "output_type": "stream",
     "text": [
      "                        freq        inv_rank       num_instances       index\n",
      "                        mean count      mean count          mean count      \n",
      "bin                                                                         \n",
      "(-1, 100]                NaN     0       NaN     0           NaN     0     0\n",
      "(100, 500]        224.285714     7  0.482322     7      3.857143     7     1\n",
      "(500, 1000]       741.750000     4  0.288893     4     12.500000     4     2\n",
      "(1000, 2000]     1535.000000     6  0.298436     6     37.166667     6     3\n",
      "(2000, 3000]     2518.200000     5  0.293464     5     27.600000     5     4\n",
      "(3000, 4000]     3105.500000     2  0.510498     2     16.500000     2     5\n",
      "(4000, 5000]     4716.000000     1  0.073914     1     42.000000     1     6\n",
      "(5000, 10000]    7961.000000     3  0.083454     3     98.000000     3     7\n",
      "(10000, 50000]  44668.000000     4  0.350355     4    970.500000     4     8\n",
      "(50000, 70000]  66163.000000     1  0.005220     1    307.000000     1     9\n"
     ]
    },
    {
     "data": {
      "text/plain": [
       "66163"
      ]
     },
     "execution_count": 250,
     "metadata": {},
     "output_type": "execute_result"
    },
    {
     "data": {
      "image/png": "[encoded data removed]",
      "text/plain": [
       "<Figure size 432x288 with 1 Axes>"
      ]
     },
     "metadata": {
      "needs_background": "light"
     },
     "output_type": "display_data"
    }
   ],
   "source": [
    "x = [];y = [];y_freq=[]\n",
    "for ele in r_e1_performance:\n",
    "    y.append(numpy.mean(r_e1_performance[ele]))\n",
    "    x.append(int(r_stats[ele][\"in_degree\"]))\n",
    "    y_freq.append(len(r_e1_performance[ele]))\n",
    "    \n",
    "df = pd.DataFrame({'freq':x, 'inv_rank':y, 'num_instances':y_freq})\n",
    "bins=[-1,100,500,1000,2000,3000,4000,5000,10000,50000,70000]\n",
    "interval=pd.cut(df[\"freq\"], bins=bins)\n",
    "df['bin'] = interval\n",
    "df_plt = df.groupby('bin').agg(['mean', 'count'])#agg('mean')\n",
    "df_plt['index'] = range(0, len(df_plt))\n",
    "print(df_plt)\n",
    "#plt.xlim(0,30)\n",
    "plt.scatter(df_plt[\"index\"],df_plt[\"inv_rank\"][\"mean\"], s=area, c=colors, alpha=0.5)\n",
    "max(x)"
   ]
  },
  {
   "cell_type": "code",
   "execution_count": 224,
   "metadata": {},
   "outputs": [
    {
     "name": "stderr",
     "output_type": "stream",
     "text": [
      "/home/prachi/anaconda3/envs/py36/lib/python3.6/site-packages/numpy/core/fromnumeric.py:2920: RuntimeWarning: Mean of empty slice.\n",
      "  out=out, **kwargs)\n",
      "/home/prachi/anaconda3/envs/py36/lib/python3.6/site-packages/numpy/core/_methods.py:85: RuntimeWarning: invalid value encountered in double_scalars\n",
      "  ret = ret.dtype.type(ret / rcount)\n",
      "'c' argument looks like a single numeric RGB or RGBA sequence, which should be avoided as value-mapping will have precedence in case its length matches with 'x' & 'y'.  Please use a 2-D array with a single row if you really want to specify the same RGB or RGBA value for all points.\n"
     ]
    },
    {
     "name": "stdout",
     "output_type": "stream",
     "text": [
      "                           freq        inv_rank       num_instances        \\\n",
      "                           mean count      mean count          mean count   \n",
      "bin                                                                         \n",
      "(-1, 100]              0.000000  7927       NaN     0      0.000000  7927   \n",
      "(100, 200]           109.000000     1  1.000000     1      1.000000     1   \n",
      "(200, 300]           239.000000     1  0.216667     1      2.000000     1   \n",
      "(300, 400]           393.000000     1  0.500000     1      1.000000     1   \n",
      "(400, 500]                  NaN     0       NaN     0           NaN     0   \n",
      "(500, 600]           555.000000     1  1.000000     1      1.000000     1   \n",
      "(600, 700]                  NaN     0       NaN     0           NaN     0   \n",
      "(700, 800]           726.000000     1  0.027834     1      2.000000     1   \n",
      "(800, 900]                  NaN     0       NaN     0           NaN     0   \n",
      "(900, 1000]          935.500000     2  0.059479     2      3.500000     2   \n",
      "(1000, 5000]        2836.875000     8  0.579079     8     13.875000     8   \n",
      "(5000, 10000]       6453.444444     9  0.369457     9     28.222222     9   \n",
      "(10000, 50000]     28793.200000     5  0.293480     5    130.200000     5   \n",
      "(50000, 100000]    77417.500000     2  0.758528     2    372.500000     2   \n",
      "(100000, 200000]            NaN     0       NaN     0           NaN     0   \n",
      "(200000, 300000]            NaN     0       NaN     0           NaN     0   \n",
      "(300000, 400000]  347403.500000     2  0.832089     2   1610.500000     2   \n",
      "\n",
      "                 index  \n",
      "                        \n",
      "bin                     \n",
      "(-1, 100]            0  \n",
      "(100, 200]           1  \n",
      "(200, 300]           2  \n",
      "(300, 400]           3  \n",
      "(400, 500]           4  \n",
      "(500, 600]           5  \n",
      "(600, 700]           6  \n",
      "(700, 800]           7  \n",
      "(800, 900]           8  \n",
      "(900, 1000]          9  \n",
      "(1000, 5000]        10  \n",
      "(5000, 10000]       11  \n",
      "(10000, 50000]      12  \n",
      "(50000, 100000]     13  \n",
      "(100000, 200000]    14  \n",
      "(200000, 300000]    15  \n",
      "(300000, 400000]    16  \n"
     ]
    },
    {
     "data": {
      "text/plain": [
       "373783"
      ]
     },
     "execution_count": 224,
     "metadata": {},
     "output_type": "execute_result"
    },
    {
     "data": {
      "image/png": "[encoded data removed]",
      "text/plain": [
       "<Figure size 432x288 with 1 Axes>"
      ]
     },
     "metadata": {
      "needs_background": "light"
     },
     "output_type": "display_data"
    }
   ],
   "source": [
    "x = [];y = [];y_freq=[]\n",
    "for ele in r_e2_performance:\n",
    "    y.append(numpy.mean(r_e2_performance[ele]))\n",
    "    x.append(int(r_stats[ele][\"freq\"]))\n",
    "    y_freq.append(len(r_e2_performance[ele]))\n",
    "    \n",
    "df = pd.DataFrame({'freq':x, 'inv_rank':y, 'num_instances':y_freq})\n",
    "bins=[-1,100,200,300,400,500,600,700,800,900,1000,5000,10000,50000,100000,200000,300000,400000]\n",
    "interval=pd.cut(df[\"freq\"], bins=bins)\n",
    "df['bin'] = interval\n",
    "df_plt = df.groupby('bin').agg(['mean', 'count'])#agg('mean')\n",
    "df_plt['index'] = range(0, len(df_plt))\n",
    "print(df_plt)\n",
    "#plt.xlim(0,30)\n",
    "plt.scatter(df_plt[\"index\"],df_plt[\"inv_rank\"][\"mean\"], s=area, c=colors, alpha=0.5)\n",
    "max(x)"
   ]
  },
  {
   "cell_type": "code",
   "execution_count": 262,
   "metadata": {},
   "outputs": [
    {
     "name": "stderr",
     "output_type": "stream",
     "text": [
      "'c' argument looks like a single numeric RGB or RGBA sequence, which should be avoided as value-mapping will have precedence in case its length matches with 'x' & 'y'.  Please use a 2-D array with a single row if you really want to specify the same RGB or RGBA value for all points.\n"
     ]
    },
    {
     "name": "stdout",
     "output_type": "stream",
     "text": [
      "                        freq        inv_rank       num_instances       index\n",
      "                        mean count      mean count          mean count      \n",
      "bin                                                                         \n",
      "(-1, 100]          29.200000     5  0.638375     5     69.600000     5     0\n",
      "(100, 500]        202.750000     4  0.762158     4      9.250000     4     1\n",
      "(500, 1000]       671.166667     6  0.198934     6     10.833333     6     2\n",
      "(1000, 2000]     1517.833333     6  0.471543     6     58.333333     6     3\n",
      "(2000, 3000]     2785.000000     3  0.215604     3     25.333333     3     4\n",
      "(3000, 4000]     3188.000000     1  1.000000     1     21.000000     1     5\n",
      "(4000, 5000]     4704.000000     2  0.388285     2     21.500000     2     6\n",
      "(5000, 10000]    6600.250000     4  0.347538     4    482.500000     4     7\n",
      "(10000, 50000]  12077.000000     2  0.696471     2   1063.000000     2     8\n",
      "(50000, 70000]           NaN     0       NaN     0           NaN     0     9\n"
     ]
    },
    {
     "data": {
      "text/plain": [
       "13272"
      ]
     },
     "execution_count": 262,
     "metadata": {},
     "output_type": "execute_result"
    },
    {
     "data": {
      "image/png": "[encoded data removed]",
      "text/plain": [
       "<Figure size 432x288 with 1 Axes>"
      ]
     },
     "metadata": {
      "needs_background": "light"
     },
     "output_type": "display_data"
    }
   ],
   "source": [
    "x = [];y = [];y_freq=[]\n",
    "for ele in r_e2_performance:\n",
    "    y.append(numpy.mean(r_e2_performance[ele]))\n",
    "    x.append(int(r_stats[ele][\"out_degree\"]))\n",
    "    y_freq.append(len(r_e2_performance[ele]))\n",
    "    \n",
    "df = pd.DataFrame({'freq':x, 'inv_rank':y, 'num_instances':y_freq})\n",
    "bins=[-1,100,500,1000,2000,3000,4000,5000,10000,50000,70000]\n",
    "interval=pd.cut(df[\"freq\"], bins=bins)\n",
    "df['bin'] = interval\n",
    "df_plt = df.groupby('bin').agg(['mean', 'count'])#agg('mean')\n",
    "df_plt['index'] = range(0, len(df_plt))\n",
    "print(df_plt)\n",
    "#plt.xlim(0,30)\n",
    "plt.scatter(df_plt[\"index\"],df_plt[\"inv_rank\"][\"mean\"], s=area, c=colors, alpha=0.5)\n",
    "max(x)"
   ]
  },
  {
   "cell_type": "code",
   "execution_count": 264,
   "metadata": {},
   "outputs": [
    {
     "data": {
      "text/plain": [
       "defaultdict(<function __main__.get_custom_dict_r()>,\n",
       "            {'isLocatedIn': {'freq': 88672,\n",
       "              'out_degree': 13272,\n",
       "              'in_degree': 39689},\n",
       "             'playsFor': {'freq': 321024,\n",
       "              'out_degree': 8470,\n",
       "              'in_degree': 45797},\n",
       "             'isAffiliatedTo': {'freq': 373783,\n",
       "              'out_degree': 10882,\n",
       "              'in_degree': 48208},\n",
       "             'diedIn': {'freq': 9248, 'out_degree': 1890, 'in_degree': 9248},\n",
       "             'actedIn': {'freq': 32155, 'out_degree': 6754, 'in_degree': 5403},\n",
       "             'graduatedFrom': {'freq': 7348,\n",
       "              'out_degree': 1057,\n",
       "              'in_degree': 4716},\n",
       "             'wasBornIn': {'freq': 44978,\n",
       "              'out_degree': 6081,\n",
       "              'in_degree': 44978},\n",
       "             'hasGender': {'freq': 66163, 'out_degree': 2, 'in_degree': 66163},\n",
       "             'happenedIn': {'freq': 5056,\n",
       "              'out_degree': 1368,\n",
       "              'in_degree': 871},\n",
       "             'hasMusicalRole': {'freq': 7754,\n",
       "              'out_degree': 73,\n",
       "              'in_degree': 2554},\n",
       "             'isConnectedTo': {'freq': 32055,\n",
       "              'out_degree': 1892,\n",
       "              'in_degree': 1497},\n",
       "             'isMarriedTo': {'freq': 3757,\n",
       "              'out_degree': 3188,\n",
       "              'in_degree': 3206},\n",
       "             'participatedIn': {'freq': 5150,\n",
       "              'out_degree': 866,\n",
       "              'in_degree': 762},\n",
       "             'hasOfficialLanguage': {'freq': 298,\n",
       "              'out_degree': 12,\n",
       "              'in_degree': 238},\n",
       "             'hasWonPrize': {'freq': 24068,\n",
       "              'out_degree': 1051,\n",
       "              'in_degree': 9232},\n",
       "             'influences': {'freq': 10710,\n",
       "              'out_degree': 2628,\n",
       "              'in_degree': 2197},\n",
       "             'worksAt': {'freq': 3389, 'out_degree': 597, 'in_degree': 1420},\n",
       "             'created': {'freq': 6933, 'out_degree': 4425, 'in_degree': 2850},\n",
       "             'edited': {'freq': 3083, 'out_degree': 2799, 'in_degree': 357},\n",
       "             'directed': {'freq': 5481, 'out_degree': 4983, 'in_degree': 1558},\n",
       "             'hasAcademicAdvisor': {'freq': 914,\n",
       "              'out_degree': 511,\n",
       "              'in_degree': 800},\n",
       "             'imports': {'freq': 393, 'out_degree': 26, 'in_degree': 159},\n",
       "             'isPoliticianOf': {'freq': 2163,\n",
       "              'out_degree': 326,\n",
       "              'in_degree': 1821},\n",
       "             'wroteMusicFor': {'freq': 6047,\n",
       "              'out_degree': 5096,\n",
       "              'in_degree': 1121},\n",
       "             'isInterestedIn': {'freq': 239,\n",
       "              'out_degree': 29,\n",
       "              'in_degree': 164},\n",
       "             'isCitizenOf': {'freq': 3455,\n",
       "              'out_degree': 168,\n",
       "              'in_degree': 3005},\n",
       "             'hasChild': {'freq': 5064, 'out_degree': 2928, 'in_degree': 2833},\n",
       "             'isLeaderOf': {'freq': 957, 'out_degree': 627, 'in_degree': 534},\n",
       "             'dealsWith': {'freq': 1302, 'out_degree': 168, 'in_degree': 220},\n",
       "             'livesIn': {'freq': 2980, 'out_degree': 864, 'in_degree': 1793},\n",
       "             'hasCapital': {'freq': 2566,\n",
       "              'out_degree': 1849,\n",
       "              'in_degree': 2157},\n",
       "             'hasNeighbor': {'freq': 555, 'out_degree': 149, 'in_degree': 148},\n",
       "             'exports': {'freq': 378, 'out_degree': 30, 'in_degree': 142},\n",
       "             'owns': {'freq': 726, 'out_degree': 562, 'in_degree': 413},\n",
       "             'hasCurrency': {'freq': 109, 'out_degree': 16, 'in_degree': 109},\n",
       "             'hasWebsite': {'freq': 68, 'out_degree': 27, 'in_degree': 64},\n",
       "             'isKnownFor': {'freq': 19, 'out_degree': 17, 'in_degree': 12},\n",
       "             'Mikheil_Khutsishvili': {'freq': 0,\n",
       "              'out_degree': set(),\n",
       "              'in_degree': set()}})"
      ]
     },
     "execution_count": 264,
     "metadata": {},
     "output_type": "execute_result"
    }
   ],
   "source": [
    "r_stats"
   ]
  },
  {
   "cell_type": "code",
   "execution_count": null,
   "metadata": {},
   "outputs": [],
   "source": []
  },
  {
   "cell_type": "code",
   "execution_count": 175,
   "metadata": {},
   "outputs": [],
   "source": []
  },
  {
   "cell_type": "code",
   "execution_count": null,
   "metadata": {},
   "outputs": [],
   "source": []
  },
  {
   "cell_type": "code",
   "execution_count": null,
   "metadata": {},
   "outputs": [],
   "source": []
  },
  {
   "cell_type": "code",
   "execution_count": null,
   "metadata": {},
   "outputs": [],
   "source": []
  },
  {
   "cell_type": "code",
   "execution_count": null,
   "metadata": {},
   "outputs": [],
   "source": []
  },
  {
   "cell_type": "code",
   "execution_count": null,
   "metadata": {},
   "outputs": [],
   "source": []
  },
  {
   "cell_type": "code",
   "execution_count": null,
   "metadata": {},
   "outputs": [],
   "source": []
  },
  {
   "cell_type": "code",
   "execution_count": null,
   "metadata": {},
   "outputs": [],
   "source": []
  }
 ],
 "metadata": {
  "kernelspec": {
   "display_name": "Python 3",
   "language": "python",
   "name": "python3"
  },
  "language_info": {
   "codemirror_mode": {
    "name": "ipython",
    "version": 3
   },
   "file_extension": ".py",
   "mimetype": "text/x-python",
   "name": "python",
   "nbconvert_exporter": "python",
   "pygments_lexer": "ipython3",
   "version": "3.6.8"
  }
 },
 "nbformat": 4,
 "nbformat_minor": 2
}
